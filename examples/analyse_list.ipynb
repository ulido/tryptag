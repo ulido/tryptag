{
  "cells": [
    {
      "cell_type": "markdown",
      "metadata": {
        "colab_type": "text",
        "id": "view-in-github"
      },
      "source": [
        "<a href=\"https://colab.research.google.com/github/zephyris/tryptag/blob/main/examples/analyse_list.ipynb\" target=\"_parent\"><img src=\"https://colab.research.google.com/assets/colab-badge.svg\" alt=\"Open In Colab\"/></a>"
      ]
    },
    {
      "cell_type": "code",
      "execution_count": null,
      "metadata": {
        "id": "FndhqOBBZykZ"
      },
      "outputs": [],
      "source": [
        "#@title Install tryptag module\n",
        "\n",
        "#@markdown Install the `tryptag` module using `pip`.\n",
        "\n",
        "!pip install git+https://github.com/zephyris/tryptag"
      ]
    },
    {
      "cell_type": "code",
      "execution_count": null,
      "metadata": {
        "id": "aEci6ZNT1nF6"
      },
      "outputs": [],
      "source": [
        "#@title Setup tryptag\n",
        "\n",
        "#@markdown The `tryptag` module handles all data retrieval.\n",
        "#@markdown `tryptools` provides tools for image analysis of trypanosome cells.\n",
        "\n",
        "# import and set up TryTag instance\n",
        "from tryptag import TrypTag\n",
        "from tryptag import tryptools\n",
        "tryptag = TrypTag()\n",
        "\n",
        "# define a function to print worklists nicely\n",
        "def prettyprint_worklist(worklist, max_shown=15):\n",
        "    print(len(worklist), \"worklist entries\")\n",
        "    for entry in worklist[:max_shown]:\n",
        "        print(f\"{entry.gene_id} {entry.terminus}: {entry.localisation}\")\n",
        "        #print(worklist[i].gene_id, worklist[i].terminus, \":\", loc_to_str(tryptag.gene_list[tryptag.life_stages[0]][worklist[i].gene_id][worklist[i].terminus][\"loc\"]))\n",
        "    if len(worklist) > max_shown:\n",
        "        print(\" ... and\", len(worklist) - max_shown, \"more\")\n",
        "\n",
        "# define a function to print results nicely\n",
        "def prettyprint_results(results, max_shown=15):\n",
        "    print(len(results), \"results\")\n",
        "    for entry in results[:max_shown]:\n",
        "        cell_line = entry[\"cell_line\"]\n",
        "        print(f\"{cell_line.gene_id} {cell_line.terminus}:\", entry[\"result\"])\n",
        "    if len(results) > max_shown:\n",
        "        print(\" ... and\", len(results) - max_shown, \"more\")"
      ]
    },
    {
      "cell_type": "code",
      "execution_count": null,
      "metadata": {
        "id": "O6-kr8NA4iTK"
      },
      "outputs": [],
      "source": [
        "#@title Set up a worklist\n",
        "\n",
        "#@markdown A worklist is a list `CellLine` objects to analyse, recording `life_stage`, `gene_id` and `terminus` for each.\n",
        "\n",
        "#@markdown `tryptag` provides some useful built-in worklists. `worklist_parental`, four replicates of the untagged parental cell line, and `worklist_all`, all `gene_id`/`terminus` combinations with image data.\n",
        "\n",
        "#@markdown The `localisation_search` function also returns list of `CellLine` objects in the format for use as a worklist.\n",
        "\n",
        "worklist_type = \"worklist_parental\" #@param [\"localisation_search\", \"worklist_all\", \"worklist_parental\"]\n",
        "\n",
        "#@markdown If you're trying out this notebook, you probably want to use the `worklist_parental` worklist to avoid downloading too much data.\n",
        "\n",
        "if worklist_type == \"worklist_parental\":\n",
        "    print(\"Using parental worklist\")\n",
        "    worklist = tryptag.worklist_parental()\n",
        "elif worklist_type == \"worklist_all\":\n",
        "    print(\"Using all worklist\")\n",
        "    worklist = tryptag.worklist_all()\n",
        "elif worklist_type == \"localisation_search\":\n",
        "    print(\"Using example localisation search worklist\")\n",
        "    print(\"Searching for `lipid droplets`\")\n",
        "    worklist = tryptag.localisation_search(\"lipid droplet\")\n",
        "\n",
        "prettyprint_worklist(worklist)"
      ]
    },
    {
      "cell_type": "code",
      "execution_count": null,
      "metadata": {
        "id": "fJSlnEoGZ-qN"
      },
      "outputs": [],
      "source": [
        "#@title A simple multithreaded analysis\n",
        "\n",
        "#@markdown A large scale analysis can use the `tryptag` built-in parallel processes or thread handling in the `analyse_list` function.\n",
        "#@markdown It requires a user-defined analysis function that takes `tryptag` (`TrypTag` object), `cell_line` (`CellLine` object) as arguments.\n",
        "\n",
        "#@markdown You can do anything you want to analyse the `cell_line` in this function, though you probably want to loop through fields or cells and analyse them using `tryptools` or custom image analysis.\n",
        "#@markdown The analysis function should return the result data you want linked with that `cell_line`.\n",
        "\n",
        "# user-defined analysis function, taking the arguments tryptag, gene_id and terminus\n",
        "# tryptag is an instance of TrypTag, passed from the parallel processing code\n",
        "# gene_id and terminus are passed from your worklist, the parallel processing code has already fetched the data for that gene_id/terminus\n",
        "def analyse(tryptag, cell_line):\n",
        "    result = {}\n",
        "    cell_list = tryptag.cell_list(cell_line)\n",
        "    for cell in cell_list:\n",
        "        cell_image = tryptag.open_cell(cell_line, cell.field.index, cell.index)\n",
        "        kn_result = tryptools.cell_kn_analysis(cell_image)\n",
        "        if kn_result[\"count_kn\"] not in result:\n",
        "            result[kn_result[\"count_kn\"]] = 0\n",
        "        result[kn_result[\"count_kn\"]] += 1\n",
        "    return result\n",
        "\n",
        "# do the analysis\n",
        "results = tryptag.analyse_list(worklist, analyse)\n",
        "\n",
        "#@markdown The result is a list of dicts where every dict has a `result` and a `cell_line` entry.\n",
        "#@markdown These may be in a different order to the original worklist. \n",
        "\n",
        "# print the results\n",
        "prettyprint_results(results)\n"
      ]
    },
    {
      "cell_type": "code",
      "execution_count": null,
      "metadata": {
        "id": "6KRDNvV97kUq"
      },
      "outputs": [],
      "source": [
        "#@title Controlling multiprocessing parameters\n",
        "\n",
        "#@markdown You can control how the parallel processing is handled using `multiprocess_mode`.\n",
        "\n",
        "#@markdown `process` uses multiple python processes, `thread` uses multiple python threads.\n",
        "#@markdown `None` uses no parallel processing.\n",
        "#@markdown Default behaviour (if you do not set `multiprocess_mode`) is to use `process`, which is probably the best solution unless you really know what you're doing.\n",
        "#@markdown Selecting `None` can help simplify error messages for debugging.\n",
        "\n",
        "multiprocess_mode = \"thread\" #@param [\"None\", \"process\", \"thread\"]\n",
        "if multiprocess_mode == \"None\":\n",
        "    multiprocess_mode = None\n",
        "\n",
        "#@markdown You can control the number of threads/processes using `workers`. Default (if you do not set `workers`) is to use one worker per CPU core.\n",
        "\n",
        "workers = 4 #@param integer\n",
        "\n",
        "results = tryptag.analyse_list(worklist, analyse, multiprocess_mode=multiprocess_mode, workers=workers)\n",
        "\n",
        "# print the results\n",
        "prettyprint_results(results)"
      ]
    }
  ],
  "metadata": {
    "colab": {
      "authorship_tag": "ABX9TyP873zpmLa7ZFN+ho6AH70X",
      "include_colab_link": true,
      "private_outputs": true,
      "provenance": []
    },
    "gpuClass": "standard",
    "kernelspec": {
      "display_name": ".venv",
      "language": "python",
      "name": "python3"
    },
    "language_info": {
      "codemirror_mode": {
        "name": "ipython",
        "version": 3
      },
      "file_extension": ".py",
      "mimetype": "text/x-python",
      "name": "python",
      "nbconvert_exporter": "python",
      "pygments_lexer": "ipython3",
      "version": "3.10.12"
    }
  },
  "nbformat": 4,
  "nbformat_minor": 0
}
