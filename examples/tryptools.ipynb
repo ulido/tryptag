{
  "cells": [
    {
      "cell_type": "markdown",
      "metadata": {
        "colab_type": "text",
        "id": "view-in-github"
      },
      "source": [
        "<a href=\"https://colab.research.google.com/github/zephyris/tryptag/blob/main/examples/tryptools.ipynb\" target=\"_parent\"><img src=\"https://colab.research.google.com/assets/colab-badge.svg\" alt=\"Open In Colab\"/></a>"
      ]
    },
    {
      "cell_type": "code",
      "execution_count": null,
      "metadata": {
        "id": "AtMmzrPS3sN5"
      },
      "outputs": [],
      "source": [
        "#@title Install tryptag module\n",
        "\n",
        "#@markdown Install the `tryptag` module using `pip`.\n",
        "\n",
        "!pip install git+https://github.com/zephyris/tryptag pandas"
      ]
    },
    {
      "cell_type": "code",
      "execution_count": null,
      "metadata": {
        "id": "hzUBKod_3v1o"
      },
      "outputs": [],
      "source": [
        "#@title Setup tryptag\n",
        "\n",
        "#@markdown The `tryptag` module handles all data retrieval. `CellLine` is used to pass cell line information to methods. `tryptools` provides iamge analysis tools.\n",
        "\n",
        "# import and set up TryTag instance\n",
        "from tryptag import TrypTag, CellLine, tryptools\n",
        "tryptag = TrypTag()"
      ]
    },
    {
      "cell_type": "code",
      "execution_count": null,
      "metadata": {
        "id": "N6Joys7C34FP"
      },
      "outputs": [],
      "source": [
        "#@markdown Cells are opened using their `gene_id` (from [TriTrypDB](https://tritrypdb.org)) and tagged `terminus`, which must be `\"n\"` or `\"c\"`.\n",
        "gene_id = \"wild-type.1.0h\" #@param {type:\"string\"}\n",
        "terminus = \"n\" #@param [\"n\", \"c\"]\n",
        "field_index = 2 #@param {type:\"integer\"}\n",
        "cell_index = 8 #@param {type:\"integer\"}\n",
        "\n",
        "# open the cell\n",
        "cell_image = tryptag.open_cell(CellLine(gene_id, terminus), field_index, cell_index, width = -32)\n",
        "\n",
        "#@markdown The opened cell image can be passed to various `tryptools` analysis methods.\n",
        "#@markdown All coordinates in the measurements are the position in this cell image, and will depend on the `width` used when opened."
      ]
    },
    {
      "cell_type": "code",
      "execution_count": null,
      "metadata": {
        "id": "f5urJ_Ul5HLv"
      },
      "outputs": [],
      "source": [
        "#@title Signal analysis\n",
        "\n",
        "#@markdown Simple analysis of median background-subtracted mNG signal.\n",
        "\n",
        "result_signal = tryptools.cell_signal_analysis(cell_image)\n",
        "\n",
        "print(\"- signal analysis result -\")\n",
        "for key in result_signal:\n",
        "    print(key+\":\", result_signal[key])"
      ]
    },
    {
      "cell_type": "code",
      "execution_count": null,
      "metadata": {
        "id": "eIqp5cXK5OHH"
      },
      "outputs": [],
      "source": [
        "#@title KN analysis\n",
        "\n",
        "#@markdown Simple analysis of kinetoplast and nucleus number and position.\n",
        "\n",
        "result_kn = tryptools.cell_kn_analysis(cell_image)\n",
        "\n",
        "print(\"- kn analysis result -\")\n",
        "for key in result_kn:\n",
        "    if key == \"objects_k\" or key == \"objects_n\":\n",
        "        print(key+\":\")\n",
        "        for index, value in enumerate(result_kn[key]):\n",
        "            for key2 in value:\n",
        "                if key2 == \"centroid\":\n",
        "                    print(\"\", key2+\":\", value[key2][\"x\"], \",\", value[key2][\"y\"])\n",
        "                else:\n",
        "                    print(\"\", key2+\":\", value[key2])\n",
        "    else:\n",
        "        print(key+\":\", result_kn[key])\n",
        "\n",
        "tryptools.plot_morphology_analysis(cell_image, result_kn)"
      ]
    },
    {
      "cell_type": "code",
      "execution_count": null,
      "metadata": {
        "id": "vtD10qni5OdH"
      },
      "outputs": [],
      "source": [
        "#@title Midline analysis\n",
        "\n",
        "#@markdown Simple analysis of cell shape from a skeletonisation, giving a midline if skeletonised to a single line.\n",
        "\n",
        "result_midline = tryptools.cell_midline_analysis(cell_image)\n",
        "\n",
        "print(\"- midline analysis result -\")\n",
        "for key in result_midline:\n",
        "    if key == \"midline\":\n",
        "        print(key+\":\")\n",
        "        print(\"\", \"[\", \"coordinates list of length\", len(result_midline), \"]\")\n",
        "    else:\n",
        "        print(key+\":\", result_midline[key])\n",
        "\n",
        "tryptools.plot_morphology_analysis(cell_image, result_midline)"
      ]
    },
    {
      "cell_type": "code",
      "execution_count": null,
      "metadata": {
        "id": "nN8xqytp5O1v"
      },
      "outputs": [],
      "source": [
        "#@title Morphology analysis\n",
        "\n",
        "#@markdown Combined midline and KN analysis: If cell skeletonised to a single line then gives an overall cell morphology along the anterior posterior axis.\n",
        "\n",
        "result_morphology = tryptools.cell_morphology_analysis(cell_image)\n",
        "\n",
        "print(\"- morphology analysis result -\")\n",
        "for key in result_morphology:\n",
        "    if key == \"objects_k\" or key == \"objects_n\":\n",
        "        print(key+\":\")\n",
        "        for index, value in enumerate(result_morphology[key]):\n",
        "            for key2 in value:\n",
        "                if key2 == \"centroid\":\n",
        "                    print(\"\", key2+\":\", value[key2][\"x\"], \",\", value[key2][\"y\"])\n",
        "                else:\n",
        "                    print(\"\", key2+\":\", value[key2])\n",
        "    elif key == \"midline\":\n",
        "        print(key+\":\")\n",
        "        print(\"\", \"[\", \"coordinates list of length\", len(result_morphology), \"]\")\n",
        "    elif key == \"distance\":\n",
        "        print(key+\":\")\n",
        "        print(\"\", \"[\", \"midline distance list of length\", len(result_morphology), \"]\")\n",
        "    else:\n",
        "        print(key+\":\", result_morphology[key])\n",
        "\n",
        "tryptools.plot_morphology_analysis(cell_image, result_morphology)\n",
        "\n",
        "if \"midline\" in result_morphology:\n",
        "    print(\"\")\n",
        "    print(\"- interpreted summary -\")\n",
        "    print(\"cell length:\", result_morphology[\"distance\"][-1], \"px\")\n",
        "    if \"objects_k\" in result_morphology:\n",
        "        print(\"posterior - kinetoplast distance:\")\n",
        "        for k in range(len(result_morphology[\"objects_k\"])):\n",
        "            print(\"\", \"k\", k+1, result_morphology[\"distance\"][result_morphology[\"objects_k\"][k][\"midline_index\"]], \"px\")\n",
        "    if \"objects_n\" in result_morphology:\n",
        "        print(\"posterior - nucleus distance:\")\n",
        "        for n in range(len(result_morphology[\"objects_n\"])):\n",
        "            print(\"\", \"n\", n+1, result_morphology[\"distance\"][result_morphology[\"objects_n\"][n][\"midline_index\"]], \"px\")\n",
        "else:\n",
        "    print(\"- midline not available because: -\")\n",
        "    if result_morphology[\"termini\"] != 2:\n",
        "        print(\"termini\", result_morphology[\"termini\"])\n",
        "    if result_morphology[\"branches\"] != 0:\n",
        "        print(\"branches\", result_morphology[\"branches\"])"
      ]
    },
    {
      "cell_type": "code",
      "execution_count": null,
      "metadata": {
        "id": "mOUYgmZR9TIB"
      },
      "outputs": [],
      "source": [
        "#@title Example application\n",
        "\n",
        "#@markdown Flow cytometry-like cell cycle analysis of a cell line.\n",
        "\n",
        "from tryptag.images import CellImage\n",
        "\n",
        "\n",
        "def cell_cycle_analysis(cell_line):\n",
        "    results = {\"kn\": [], \"kdna\": [], \"karea\": [], \"ndna\": [], \"narea\": [], \"length\": [], \"area\": []}\n",
        "    print(cell_line)\n",
        "    fieldcell_list = tryptag.cell_list(cell_line)\n",
        "    for cell in fieldcell_list:\n",
        "        cell_image = CellImage(cell, rotated=False, width=-32)\n",
        "        morphometry_analysis = tryptools.cell_morphology_analysis(cell_image)\n",
        "        signal_analysis = tryptools.cell_signal_analysis(cell_image)\n",
        "        if \"distance\" in morphometry_analysis:\n",
        "            # area result\n",
        "            results[\"area\"].append(signal_analysis[\"cell_area\"])\n",
        "            # kn result\n",
        "            kn = morphometry_analysis[\"count_kn\"]\n",
        "            if morphometry_analysis[\"count_kn\"] not in [\"1K1N\", \"2K1N\", \"2K2N\"]:\n",
        "                kn = \"other\"\n",
        "            results[\"kn\"].append(kn)\n",
        "            # kdna and karea result\n",
        "            kdna = 0\n",
        "            karea = 0\n",
        "            if \"objects_k\" in morphometry_analysis:\n",
        "                for k in morphometry_analysis[\"objects_k\"]:\n",
        "                    kdna += k[\"dna_sum\"]\n",
        "                    karea += k[\"area\"]\n",
        "            results[\"kdna\"].append(kdna)\n",
        "            results[\"karea\"].append(karea)\n",
        "            # ndna and narea result\n",
        "            ndna = 0\n",
        "            narea = 0\n",
        "            if \"objects_n\" in morphometry_analysis:\n",
        "                for n in morphometry_analysis[\"objects_n\"]:\n",
        "                    ndna += n[\"dna_sum\"]\n",
        "                    narea += n[\"area\"]\n",
        "            results[\"ndna\"].append(ndna)\n",
        "            results[\"narea\"].append(narea)\n",
        "            # length result\n",
        "            results[\"length\"].append(morphometry_analysis[\"distance\"][-1])\n",
        "    return results\n",
        "\n",
        "cell_line = tryptag.gene_list[gene_id][terminus]\n",
        "cell_cycle = cell_cycle_analysis(cell_line)"
      ]
    },
    {
      "cell_type": "code",
      "execution_count": null,
      "metadata": {
        "id": "ko6vf1wiDpyq"
      },
      "outputs": [],
      "source": [
        "#@title Example plotting\n",
        "\n",
        "#@markdown Plot cell length against nuclear DNA content, grouped by kinetoplast and nucleus number.\n",
        "\n",
        "import matplotlib.pyplot as plt\n",
        "import numpy as np\n",
        "import pandas as pd\n",
        "\n",
        "df = pd.DataFrame(cell_cycle)\n",
        "\n",
        "groups = df.groupby('kn')\n",
        "for name, group in groups:\n",
        "    plt.scatter(x=group['length'],y=group['ndna'],label=name)\n",
        "plt.legend()\n",
        "plt.xlabel(\"length\")\n",
        "plt.ylabel(\"ndna\")\n",
        "plt.show()"
      ]
    }
  ],
  "metadata": {
    "colab": {
      "authorship_tag": "ABX9TyOXZ8uchgPSyoZGODSaDgpQ",
      "include_colab_link": true,
      "private_outputs": true,
      "provenance": []
    },
    "gpuClass": "standard",
    "kernelspec": {
      "display_name": ".venv",
      "language": "python",
      "name": "python3"
    },
    "language_info": {
      "codemirror_mode": {
        "name": "ipython",
        "version": 3
      },
      "file_extension": ".py",
      "mimetype": "text/x-python",
      "name": "python",
      "nbconvert_exporter": "python",
      "pygments_lexer": "ipython3",
      "version": "3.10.12"
    }
  },
  "nbformat": 4,
  "nbformat_minor": 0
}
